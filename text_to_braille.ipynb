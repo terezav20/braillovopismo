{
 "cells": [
  {
   "cell_type": "markdown",
   "metadata": {},
   "source": [
    "Tento Python skript slouží k převodu normálního textu na text s prefixy podle několika pravidel. Zde je popis, jak skript funguje:\n",
    "\n",
    "1. <b>Mapování čísel na písmena</b>:\n",
    "         Skript má definovaný slovník <b><i>number_to_letter</i></b>, který mapuje číslice na odpovídající písmena. Například číslo <i>1</i> se mapuje na písmeno <i>‘a’</i>, číslo <i>2</i> na <i>‘b’</i> atd.\n",
    "2. <b>Převod velkých písmen</b>:\n",
    "         Pokud začíná slovo velkým písmenem, skript ho převede na malé písmeno a přidá před něj prefix <b>klávesy 3</b>. Například slovo <i>“Tereza”</i> se převede na <i>“3tereza”</i>.\n",
    "3. <b>Převod čísel</b>:\n",
    "         Pokud skript narazí na číslo, převede ho na odpovídající písmena podle mapování v <b><i>number_to_letter</i></b> a přidá před něj prefix <b>klávesy 1</b>. Například číslo <i>123</i> se převede na <i>“1abc”</i>.\n",
    "\n",
    "Script byl vytvořen jako pomocník při převodu textu pro práci s Braillovým písmem v grafickém editoru, který využívá prefixy.\n",
    "\n",
    "Pro práci byly řešeny jen prefixy pro číslo a pro velké písmeno, protože ostatní nebudou využívány. Přehled pravidel můžete najít na: [www.tyflokabinet-cb.cz/braill.htm](https://www.tyflokabinet-cb.cz/braill.htm)\n"
   ]
  },
  {
   "cell_type": "code",
   "execution_count": null,
   "metadata": {
    "vscode": {
     "languageId": "plaintext"
    }
   },
   "outputs": [],
   "source": [
    "def convert_text_with_prefixes(input_text):\n",
    "    # Mapování čísel na písmena\n",
    "    number_to_letter = {\n",
    "        '1': 'a', '2': 'b', '3': 'c', '4': 'd', '5': 'e',\n",
    "        '6': 'f', '7': 'g', '8': 'h', '9': 'i', '0': 'j'\n",
    "    }\n",
    "\n",
    "    # Inicializace výstupního textu\n",
    "    vystupni_text = \"\"\n",
    "\n",
    "    # Příznak indikující, zda má následující znak prefix\n",
    "    prefix_dalsi = False\n",
    "\n",
    "    # Projdu každý znak ve vstupním textu\n",
    "    for znak in input_text:\n",
    "        # Zkontroluji, zda znak začíná velkým písmenem\n",
    "        if znak.isupper():\n",
    "            # Převedu velké písmeno na malé a přidám prefix 3\n",
    "            vystupni_text += \"3\" + znak.lower()\n",
    "        elif znak.isdigit():\n",
    "            # Přidám prefix před prvním číslem\n",
    "            if not prefix_dalsi:\n",
    "                vystupni_text += \"1\"\n",
    "                prefix_dalsi = True\n",
    "            # Převedu číslo na odpovídající písmeno\n",
    "            vystupni_text += number_to_letter.get(znak, znak)\n",
    "        else:\n",
    "            # Přidám ostatní znaky bez úpravy\n",
    "            vystupni_text += znak\n",
    "            prefix_dalsi = False\n",
    "\n",
    "    return vystupni_text.strip()\n",
    "\n",
    "# Příklad použití\n",
    "vstupni_text = \"Podíl obézních obyvatel v Americe v roce 2022\" # vrátí 3podíl obézních obyvatel v 3americe v roce 1bjbb\n",
    "prevedeny_text = convert_text_with_prefixes(vstupni_text)\n",
    "print(prevedeny_text)\n"
   ]
  }
 ],
 "metadata": {
  "language_info": {
   "name": "python"
  }
 },
 "nbformat": 4,
 "nbformat_minor": 2
}
